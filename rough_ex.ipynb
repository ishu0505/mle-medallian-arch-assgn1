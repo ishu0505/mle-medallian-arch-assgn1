{
 "cells": [
  {
   "cell_type": "code",
   "execution_count": 6,
   "id": "a77e9c56",
   "metadata": {},
   "outputs": [],
   "source": [
    "# Basic data manipulation and analysis\n",
    "import pandas as pd\n",
    "import numpy as np\n",
    "\n",
    "# Visualization libraries\n",
    "import matplotlib.pyplot as plt\n",
    "# # import seaborn as sns\n",
    "\n",
    "# # File handling\n",
    "# import os\n",
    "# from glob import glob\n",
    "\n",
    "# # Optional: for datetime operations\n",
    "# from datetime import datetime\n",
    "\n",
    "# Set display options for pandas\n",
    "# pd.set_option('display.max_columns', None)\n",
    "# pd.set_option('display.max_rows', 100)\n",
    "# pd.set_option('display.float_format', lambda x: '%.3f' % x)\n",
    "\n",
    "\n",
    "\n",
    "# Function to load single CSV file\n",
    "def load_csv(file_path):\n",
    "    \"\"\"\n",
    "    Load a single CSV file into a pandas DataFrame\n",
    "    \n",
    "    Args:\n",
    "        file_path (str): Path to the CSV file\n",
    "        \n",
    "    Returns:\n",
    "        pandas.DataFrame: Loaded data\n",
    "    \"\"\"\n",
    "    try:\n",
    "        return pd.read_csv(file_path)\n",
    "    except Exception as e:\n",
    "        print(f\"Error loading {file_path}: {e}\")\n",
    "        return None\n",
    "\n",
    "# Function to load multiple CSV files from a directory\n",
    "def load_multiple_csvs(directory_path, pattern=\"*.csv\"):\n",
    "    \"\"\"\n",
    "    Load multiple CSV files from a directory\n",
    "    \n",
    "    Args:\n",
    "        directory_path (str): Path to directory containing CSV files\n",
    "        pattern (str): Pattern to match CSV files (default: \"*.csv\")\n",
    "        \n",
    "    Returns:\n",
    "        dict: Dictionary with filenames as keys and DataFrames as values\n",
    "    \"\"\"\n",
    "    csv_files = glob(os.path.join(directory_path, pattern))\n",
    "    data_dict = {}\n",
    "    \n",
    "    for file_path in csv_files:\n",
    "        file_name = os.path.basename(file_path)\n",
    "        df = load_csv(file_path)\n",
    "        if df is not None:\n",
    "            data_dict[file_name] = df\n",
    "    \n",
    "    return data_dict\n",
    "\n",
    "# Example usage:\n",
    "# Single file\n",
    "# df = load_csv('path/to/your/file.csv')\n",
    "\n",
    "# Multiple files\n",
    "# all_data = load_multiple_csvs('path/to/your/directory')"
   ]
  },
  {
   "cell_type": "code",
   "execution_count": null,
   "id": "5d9d3041",
   "metadata": {},
   "outputs": [],
   "source": []
  },
  {
   "cell_type": "code",
   "execution_count": null,
   "id": "344b5edc",
   "metadata": {},
   "outputs": [
    {
     "data": {
      "text/plain": [
       "(215376, 22)"
      ]
     },
     "execution_count": 9,
     "metadata": {},
     "output_type": "execute_result"
    }
   ],
   "source": []
  },
  {
   "cell_type": "code",
   "execution_count": null,
   "id": "cfabbd5d",
   "metadata": {},
   "outputs": [],
   "source": []
  }
 ],
 "metadata": {
  "kernelspec": {
   "display_name": "Python 3",
   "language": "python",
   "name": "python3"
  },
  "language_info": {
   "codemirror_mode": {
    "name": "ipython",
    "version": 3
   },
   "file_extension": ".py",
   "mimetype": "text/x-python",
   "name": "python",
   "nbconvert_exporter": "python",
   "pygments_lexer": "ipython3",
   "version": "3.12.10"
  }
 },
 "nbformat": 4,
 "nbformat_minor": 5
}

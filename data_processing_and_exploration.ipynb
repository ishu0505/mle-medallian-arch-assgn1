{
 "cells": [
  {
   "cell_type": "markdown",
   "id": "a70c1166-c499-4ad8-8d99-80857a38f432",
   "metadata": {},
   "source": [
    "# 01_attributes_feature_store.ipynb  \n",
    "**Context:** You’re a data scientist at a bank preparing a feature store for a loan‐default prediction model.  \n",
    "We’ll use **Medallion Architecture**:  \n",
    "- **Bronze**: raw landing (CSV)  \n",
    "- **Silver**: cleaned & typed (Parquet)  \n",
    "- **Gold**: ML-ready features (Parquet)  \n",
    "\n",
    "**Data:** `features_attributes.csv` holds per‐customer demographics at each snapshot.  \n",
    "Goal: build Bronze→Silver→Gold tables for these attributes.\n"
   ]
  },
  {
   "cell_type": "code",
   "execution_count": 14,
   "id": "281d649c-94d5-43fd-acac-964661a27ddf",
   "metadata": {},
   "outputs": [],
   "source": [
    "# Cell 1: Imports & Spark setup\n",
    "import os, glob\n",
    "from datetime import datetime\n",
    "import pandas as pd\n",
    "import numpy as np\n",
    "\n",
    "import pyspark\n",
    "import pyspark.sql.functions as F\n",
    "from pyspark.sql.functions import col, to_date, when\n",
    "from pyspark.sql.types import IntegerType, StringType\n",
    "\n",
    "# Initialize Spark\n",
    "spark = (pyspark.sql.SparkSession.builder\n",
    "         .appName(\"AttrFeatureStore\")\n",
    "         .master(\"local[*]\")\n",
    "         .getOrCreate())\n",
    "spark.sparkContext.setLogLevel(\"ERROR\")\n",
    "\n",
    "# Paths\n",
    "RAW_CSV     = \"data/features_attributes.csv\"\n",
    "BRONZE_DIR  = \"datamart/bronze/attributes\"   # raw CSV slices\n",
    "SILVER_DIR  = \"datamart/silver/attributes\"   # cleaned Parquet\n",
    "GOLD_DIR    = \"datamart/gold/attributes\"     # ML-ready Parquet\n",
    "\n",
    "for d in (BRONZE_DIR,SILVER_DIR,GOLD_DIR):\n",
    "    os.makedirs(d, exist_ok=True)\n"
   ]
  },
  {
   "cell_type": "code",
   "execution_count": 16,
   "id": "8d9b8e1f-bb1f-437f-b600-15b98861b814",
   "metadata": {},
   "outputs": [
    {
     "name": "stdout",
     "output_type": "stream",
     "text": [
      "Snapshots: ['2023-01-01', '2023-02-01', '2023-03-01'] ... ['2024-10-01', '2024-11-01', '2024-12-01']\n"
     ]
    }
   ],
   "source": [
    "# Cell 2: Generate monthly snapshot dates\n",
    "start, end = \"2023-01-01\",\"2024-12-01\"\n",
    "def gen_month_starts(s,e):\n",
    "    s_dt, e_dt = datetime.strptime(s,\"%Y-%m-%d\"), datetime.strptime(e,\"%Y-%m-%d\")\n",
    "    out, cur = [], datetime(s_dt.year,s_dt.month,1)\n",
    "    while cur <= e_dt:\n",
    "        out.append(cur.strftime(\"%Y-%m-%d\"))\n",
    "        # advance month\n",
    "        m = cur.month+1\n",
    "        y = cur.year + (m//13)\n",
    "        cur = datetime(y, (m-1)%12+1, 1)\n",
    "    return out\n",
    "\n",
    "dates = gen_month_starts(start,end)\n",
    "print(\"Snapshots:\", dates[:3], \"...\", dates[-3:])\n"
   ]
  },
  {
   "cell_type": "code",
   "execution_count": 17,
   "id": "e398d7eb-a8ef-4775-9e21-5a93001c6f12",
   "metadata": {},
   "outputs": [
    {
     "name": "stdout",
     "output_type": "stream",
     "text": [
      "2023-01-01: 530 rows → datamart/bronze/attributes/bronze_attributes_2023_01_01.csv\n",
      "2023-02-01: 501 rows → datamart/bronze/attributes/bronze_attributes_2023_02_01.csv\n",
      "2023-03-01: 506 rows → datamart/bronze/attributes/bronze_attributes_2023_03_01.csv\n",
      "2023-04-01: 510 rows → datamart/bronze/attributes/bronze_attributes_2023_04_01.csv\n",
      "2023-05-01: 521 rows → datamart/bronze/attributes/bronze_attributes_2023_05_01.csv\n",
      "2023-06-01: 517 rows → datamart/bronze/attributes/bronze_attributes_2023_06_01.csv\n",
      "2023-07-01: 471 rows → datamart/bronze/attributes/bronze_attributes_2023_07_01.csv\n",
      "2023-08-01: 481 rows → datamart/bronze/attributes/bronze_attributes_2023_08_01.csv\n",
      "2023-09-01: 454 rows → datamart/bronze/attributes/bronze_attributes_2023_09_01.csv\n",
      "2023-10-01: 487 rows → datamart/bronze/attributes/bronze_attributes_2023_10_01.csv\n",
      "2023-11-01: 491 rows → datamart/bronze/attributes/bronze_attributes_2023_11_01.csv\n",
      "2023-12-01: 489 rows → datamart/bronze/attributes/bronze_attributes_2023_12_01.csv\n",
      "2024-01-01: 485 rows → datamart/bronze/attributes/bronze_attributes_2024_01_01.csv\n",
      "2024-02-01: 518 rows → datamart/bronze/attributes/bronze_attributes_2024_02_01.csv\n",
      "2024-03-01: 511 rows → datamart/bronze/attributes/bronze_attributes_2024_03_01.csv\n",
      "2024-04-01: 513 rows → datamart/bronze/attributes/bronze_attributes_2024_04_01.csv\n",
      "2024-05-01: 491 rows → datamart/bronze/attributes/bronze_attributes_2024_05_01.csv\n",
      "2024-06-01: 498 rows → datamart/bronze/attributes/bronze_attributes_2024_06_01.csv\n",
      "2024-07-01: 505 rows → datamart/bronze/attributes/bronze_attributes_2024_07_01.csv\n",
      "2024-08-01: 543 rows → datamart/bronze/attributes/bronze_attributes_2024_08_01.csv\n",
      "2024-09-01: 493 rows → datamart/bronze/attributes/bronze_attributes_2024_09_01.csv\n",
      "2024-10-01: 456 rows → datamart/bronze/attributes/bronze_attributes_2024_10_01.csv\n",
      "2024-11-01: 488 rows → datamart/bronze/attributes/bronze_attributes_2024_11_01.csv\n",
      "2024-12-01: 515 rows → datamart/bronze/attributes/bronze_attributes_2024_12_01.csv\n"
     ]
    }
   ],
   "source": [
    "# Cell 3: BRONZE – raw CSV slices (for audit & replay)\n",
    "for d in dates:\n",
    "    df = (spark.read.csv(RAW_CSV, header=True, inferSchema=True)\n",
    "          .filter(col(\"snapshot_date\")==d))\n",
    "    out = f\"{BRONZE_DIR}/bronze_attributes_{d.replace('-','_')}.csv\"\n",
    "    df.toPandas().to_csv(out, index=False)\n",
    "    print(f\"{d}: {df.count()} rows → {out}\")\n"
   ]
  },
  {
   "cell_type": "code",
   "execution_count": 18,
   "id": "254abe0b-9467-40e9-b048-495da77ab92b",
   "metadata": {},
   "outputs": [
    {
     "name": "stdout",
     "output_type": "stream",
     "text": [
      "Bronze shape: (530, 6)\n"
     ]
    },
    {
     "data": {
      "text/html": [
       "<div>\n",
       "<style scoped>\n",
       "    .dataframe tbody tr th:only-of-type {\n",
       "        vertical-align: middle;\n",
       "    }\n",
       "\n",
       "    .dataframe tbody tr th {\n",
       "        vertical-align: top;\n",
       "    }\n",
       "\n",
       "    .dataframe thead th {\n",
       "        text-align: right;\n",
       "    }\n",
       "</style>\n",
       "<table border=\"1\" class=\"dataframe\">\n",
       "  <thead>\n",
       "    <tr style=\"text-align: right;\">\n",
       "      <th></th>\n",
       "      <th>Customer_ID</th>\n",
       "      <th>Name</th>\n",
       "      <th>Age</th>\n",
       "      <th>SSN</th>\n",
       "      <th>Occupation</th>\n",
       "      <th>snapshot_date</th>\n",
       "    </tr>\n",
       "  </thead>\n",
       "  <tbody>\n",
       "    <tr>\n",
       "      <th>0</th>\n",
       "      <td>CUS_0x1037</td>\n",
       "      <td>Matthewm</td>\n",
       "      <td>45</td>\n",
       "      <td>230-22-9583</td>\n",
       "      <td>Accountant</td>\n",
       "      <td>2023-01-01</td>\n",
       "    </tr>\n",
       "    <tr>\n",
       "      <th>1</th>\n",
       "      <td>CUS_0x1069</td>\n",
       "      <td>Andreas Cremero</td>\n",
       "      <td>32</td>\n",
       "      <td>761-27-5143</td>\n",
       "      <td>Accountant</td>\n",
       "      <td>2023-01-01</td>\n",
       "    </tr>\n",
       "    <tr>\n",
       "      <th>2</th>\n",
       "      <td>CUS_0x114a</td>\n",
       "      <td>Valetkevitchu</td>\n",
       "      <td>43</td>\n",
       "      <td>133-89-5234</td>\n",
       "      <td>Developer</td>\n",
       "      <td>2023-01-01</td>\n",
       "    </tr>\n",
       "    <tr>\n",
       "      <th>3</th>\n",
       "      <td>CUS_0x1184</td>\n",
       "      <td>Cohenq</td>\n",
       "      <td>49</td>\n",
       "      <td>963-76-2464</td>\n",
       "      <td>Lawyer</td>\n",
       "      <td>2023-01-01</td>\n",
       "    </tr>\n",
       "    <tr>\n",
       "      <th>4</th>\n",
       "      <td>CUS_0x1297</td>\n",
       "      <td>Edwardsz</td>\n",
       "      <td>46</td>\n",
       "      <td>#F%$D@*&amp;8</td>\n",
       "      <td>Manager</td>\n",
       "      <td>2023-01-01</td>\n",
       "    </tr>\n",
       "  </tbody>\n",
       "</table>\n",
       "</div>"
      ],
      "text/plain": [
       "  Customer_ID             Name Age          SSN  Occupation snapshot_date\n",
       "0  CUS_0x1037         Matthewm  45  230-22-9583  Accountant    2023-01-01\n",
       "1  CUS_0x1069  Andreas Cremero  32  761-27-5143  Accountant    2023-01-01\n",
       "2  CUS_0x114a    Valetkevitchu  43  133-89-5234   Developer    2023-01-01\n",
       "3  CUS_0x1184           Cohenq  49  963-76-2464      Lawyer    2023-01-01\n",
       "4  CUS_0x1297         Edwardsz  46    #F%$D@*&8     Manager    2023-01-01"
      ]
     },
     "metadata": {},
     "output_type": "display_data"
    }
   ],
   "source": [
    "# Cell 4: Inspect Bronze slice\n",
    "b = pd.read_csv(f\"{BRONZE_DIR}/bronze_attributes_2023_01_01.csv\")\n",
    "print(\"Bronze shape:\", b.shape)\n",
    "display(b.head())\n"
   ]
  },
  {
   "cell_type": "code",
   "execution_count": 19,
   "id": "cd89969f-e5dc-4b2d-ac10-6ebd6cc551b7",
   "metadata": {},
   "outputs": [
    {
     "name": "stdout",
     "output_type": "stream",
     "text": [
      "2023-01-01: SILVER → 466 rows → datamart/silver/attributes/silver_attributes_2023_01_01.parquet\n",
      "2023-02-01: SILVER → 442 rows → datamart/silver/attributes/silver_attributes_2023_02_01.parquet\n",
      "2023-03-01: SILVER → 438 rows → datamart/silver/attributes/silver_attributes_2023_03_01.parquet\n",
      "2023-04-01: SILVER → 436 rows → datamart/silver/attributes/silver_attributes_2023_04_01.parquet\n",
      "2023-05-01: SILVER → 466 rows → datamart/silver/attributes/silver_attributes_2023_05_01.parquet\n",
      "2023-06-01: SILVER → 457 rows → datamart/silver/attributes/silver_attributes_2023_06_01.parquet\n",
      "2023-07-01: SILVER → 433 rows → datamart/silver/attributes/silver_attributes_2023_07_01.parquet\n",
      "2023-08-01: SILVER → 425 rows → datamart/silver/attributes/silver_attributes_2023_08_01.parquet\n",
      "2023-09-01: SILVER → 386 rows → datamart/silver/attributes/silver_attributes_2023_09_01.parquet\n",
      "2023-10-01: SILVER → 422 rows → datamart/silver/attributes/silver_attributes_2023_10_01.parquet\n",
      "2023-11-01: SILVER → 423 rows → datamart/silver/attributes/silver_attributes_2023_11_01.parquet\n",
      "2023-12-01: SILVER → 434 rows → datamart/silver/attributes/silver_attributes_2023_12_01.parquet\n",
      "2024-01-01: SILVER → 426 rows → datamart/silver/attributes/silver_attributes_2024_01_01.parquet\n",
      "2024-02-01: SILVER → 452 rows → datamart/silver/attributes/silver_attributes_2024_02_01.parquet\n",
      "2024-03-01: SILVER → 450 rows → datamart/silver/attributes/silver_attributes_2024_03_01.parquet\n",
      "2024-04-01: SILVER → 441 rows → datamart/silver/attributes/silver_attributes_2024_04_01.parquet\n",
      "2024-05-01: SILVER → 429 rows → datamart/silver/attributes/silver_attributes_2024_05_01.parquet\n",
      "2024-06-01: SILVER → 422 rows → datamart/silver/attributes/silver_attributes_2024_06_01.parquet\n",
      "2024-07-01: SILVER → 430 rows → datamart/silver/attributes/silver_attributes_2024_07_01.parquet\n",
      "2024-08-01: SILVER → 489 rows → datamart/silver/attributes/silver_attributes_2024_08_01.parquet\n",
      "2024-09-01: SILVER → 432 rows → datamart/silver/attributes/silver_attributes_2024_09_01.parquet\n",
      "2024-10-01: SILVER → 402 rows → datamart/silver/attributes/silver_attributes_2024_10_01.parquet\n",
      "2024-11-01: SILVER → 424 rows → datamart/silver/attributes/silver_attributes_2024_11_01.parquet\n",
      "2024-12-01: SILVER → 450 rows → datamart/silver/attributes/silver_attributes_2024_12_01.parquet\n"
     ]
    }
   ],
   "source": [
    "# Cell 5: SILVER – clean & type (drop PII, enforce schema)\n",
    "for d in dates:\n",
    "    silver = spark.read.csv(\n",
    "        f\"{BRONZE_DIR}/bronze_attributes_{d.replace('-','_')}.csv\",\n",
    "        header=True, inferSchema=True)\n",
    "\n",
    "    # 1) Parse date, cast Age\n",
    "    silver = (silver\n",
    "              .withColumn(\"snapshot_date\", to_date(col(\"snapshot_date\"),\"yyyy-MM-dd\"))\n",
    "              .withColumn(\"Age\", col(\"Age\").cast(IntegerType())))\n",
    "    # 2) Drop PII: Name, SSN\n",
    "    silver = silver.drop(\"Name\",\"SSN\")\n",
    "    # 3) Filter invalid Ages (only adult borrowers)\n",
    "    silver = silver.filter((col(\"Age\")>=18)&(col(\"Age\")<=100))\n",
    "    # 4) (Optional) Impute missing Occupation\n",
    "    silver = silver.withColumn(\"Occupation\",\n",
    "        when(col(\"Occupation\").isNull(),\"Unknown\").otherwise(col(\"Occupation\")))\n",
    "\n",
    "    # Write Parquet\n",
    "    out = f\"{SILVER_DIR}/silver_attributes_{d.replace('-','_')}.parquet\"\n",
    "    silver.write.mode(\"overwrite\").parquet(out)\n",
    "    print(f\"{d}: SILVER → {silver.count()} rows → {out}\")\n"
   ]
  },
  {
   "cell_type": "code",
   "execution_count": 20,
   "id": "e2151cc0-f7f9-41e3-8308-716b1f53b9b7",
   "metadata": {},
   "outputs": [
    {
     "name": "stdout",
     "output_type": "stream",
     "text": [
      "root\n",
      " |-- Customer_ID: string (nullable = true)\n",
      " |-- Age: integer (nullable = true)\n",
      " |-- Occupation: string (nullable = true)\n",
      " |-- snapshot_date: date (nullable = true)\n",
      "\n"
     ]
    },
    {
     "data": {
      "text/html": [
       "<div>\n",
       "<style scoped>\n",
       "    .dataframe tbody tr th:only-of-type {\n",
       "        vertical-align: middle;\n",
       "    }\n",
       "\n",
       "    .dataframe tbody tr th {\n",
       "        vertical-align: top;\n",
       "    }\n",
       "\n",
       "    .dataframe thead th {\n",
       "        text-align: right;\n",
       "    }\n",
       "</style>\n",
       "<table border=\"1\" class=\"dataframe\">\n",
       "  <thead>\n",
       "    <tr style=\"text-align: right;\">\n",
       "      <th></th>\n",
       "      <th>Customer_ID</th>\n",
       "      <th>Age</th>\n",
       "      <th>Occupation</th>\n",
       "      <th>snapshot_date</th>\n",
       "    </tr>\n",
       "  </thead>\n",
       "  <tbody>\n",
       "    <tr>\n",
       "      <th>0</th>\n",
       "      <td>CUS_0x1037</td>\n",
       "      <td>45</td>\n",
       "      <td>Accountant</td>\n",
       "      <td>2023-01-01</td>\n",
       "    </tr>\n",
       "    <tr>\n",
       "      <th>1</th>\n",
       "      <td>CUS_0x1069</td>\n",
       "      <td>32</td>\n",
       "      <td>Accountant</td>\n",
       "      <td>2023-01-01</td>\n",
       "    </tr>\n",
       "    <tr>\n",
       "      <th>2</th>\n",
       "      <td>CUS_0x114a</td>\n",
       "      <td>43</td>\n",
       "      <td>Developer</td>\n",
       "      <td>2023-01-01</td>\n",
       "    </tr>\n",
       "    <tr>\n",
       "      <th>3</th>\n",
       "      <td>CUS_0x1184</td>\n",
       "      <td>49</td>\n",
       "      <td>Lawyer</td>\n",
       "      <td>2023-01-01</td>\n",
       "    </tr>\n",
       "    <tr>\n",
       "      <th>4</th>\n",
       "      <td>CUS_0x1297</td>\n",
       "      <td>46</td>\n",
       "      <td>Manager</td>\n",
       "      <td>2023-01-01</td>\n",
       "    </tr>\n",
       "  </tbody>\n",
       "</table>\n",
       "</div>"
      ],
      "text/plain": [
       "  Customer_ID  Age  Occupation snapshot_date\n",
       "0  CUS_0x1037   45  Accountant    2023-01-01\n",
       "1  CUS_0x1069   32  Accountant    2023-01-01\n",
       "2  CUS_0x114a   43   Developer    2023-01-01\n",
       "3  CUS_0x1184   49      Lawyer    2023-01-01\n",
       "4  CUS_0x1297   46     Manager    2023-01-01"
      ]
     },
     "metadata": {},
     "output_type": "display_data"
    }
   ],
   "source": [
    "# Cell 6: Inspect Silver schema & sample\n",
    "\n",
    "sv = spark.read.parquet(f\"{SILVER_DIR}/silver_attributes_2023_01_01.parquet\")\n",
    "sv.printSchema()\n",
    "display(sv.limit(5).toPandas())\n"
   ]
  },
  {
   "cell_type": "code",
   "execution_count": null,
   "id": "357d9e76-a66b-4a05-8d50-6cb52609a9eb",
   "metadata": {},
   "outputs": [],
   "source": []
  }
 ],
 "metadata": {
  "kernelspec": {
   "display_name": "Python 3 (ipykernel)",
   "language": "python",
   "name": "python3"
  },
  "language_info": {
   "codemirror_mode": {
    "name": "ipython",
    "version": 3
   },
   "file_extension": ".py",
   "mimetype": "text/x-python",
   "name": "python",
   "nbconvert_exporter": "python",
   "pygments_lexer": "ipython3",
   "version": "3.12.10"
  }
 },
 "nbformat": 4,
 "nbformat_minor": 5
}
